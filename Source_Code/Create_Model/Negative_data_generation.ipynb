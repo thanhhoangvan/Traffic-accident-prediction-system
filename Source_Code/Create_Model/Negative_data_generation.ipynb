{
 "cells": [
  {
   "cell_type": "markdown",
   "metadata": {
    "colab_type": "text",
    "id": "3JGJhwDli1_d"
   },
   "source": [
    "### Import Libraries"
   ]
  },
  {
   "cell_type": "code",
   "execution_count": 1,
   "metadata": {
    "colab": {
     "base_uri": "https://localhost:8080/",
     "height": 71
    },
    "colab_type": "code",
    "id": "TeonJ2Lqi1_f",
    "outputId": "7b7d45c3-dbf4-4de5-caec-956fef0f73d2"
   },
   "outputs": [],
   "source": [
    "from sklearn.model_selection import train_test_split\n",
    "from sklearn.ensemble import RandomForestClassifier\n",
    "from sklearn.linear_model import LogisticRegression\n",
    "from sklearn.naive_bayes import GaussianNB\n",
    "from sklearn import metrics\n",
    "import pandas as pd\n",
    "import numpy as np\n",
    "import matplotlib.pyplot as plt\n",
    "import seaborn as sns\n",
    "import random\n",
    "import keplergl\n",
    "import datetime"
   ]
  },
  {
   "cell_type": "markdown",
   "metadata": {
    "colab_type": "text",
    "id": "AaRTadeH_zhc"
   },
   "source": [
    "---\n",
    "# Generation Part 2"
   ]
  },
  {
   "cell_type": "code",
   "execution_count": null,
   "metadata": {
    "colab": {},
    "colab_type": "code",
    "id": "IvPHSESQ_MWm"
   },
   "outputs": [],
   "source": [
    "df = pd.read_csv('data_processed.csv')\n",
    "df = df[df['Year'] >= 2010]\n",
    "df10_nonacc = pd.read_csv('non_acc_10.csv').drop(['Unnamed: 0'], axis=1)\n",
    "df11_nonacc = pd.read_csv('non_acc_11.csv').drop(['Unnamed: 0'], axis=1)\n",
    "df12_nonacc = pd.read_csv('non_acc_12.csv').drop(['Unnamed: 0'], axis=1)\n",
    "df13_nonacc = pd.read_csv('non_acc_13.csv').drop(['Unnamed: 0'], axis=1)\n",
    "df14_nonacc = pd.read_csv('non_acc_14.csv').drop(['Unnamed: 0'], axis=1)"
   ]
  },
  {
   "cell_type": "code",
   "execution_count": null,
   "metadata": {
    "colab": {
     "base_uri": "https://localhost:8080/",
     "height": 1000
    },
    "colab_type": "code",
    "id": "IFnuRJIA_3Lv",
    "outputId": "92cfb0b5-e425-4d76-e4ce-142373917fb4"
   },
   "outputs": [],
   "source": [
    "df.info()\n",
    "df10_nonacc.info()\n",
    "df11_nonacc.info()\n",
    "df12_nonacc.info()\n",
    "df13_nonacc.info()\n",
    "df14_nonacc.info()"
   ]
  },
  {
   "cell_type": "code",
   "execution_count": null,
   "metadata": {
    "colab": {},
    "colab_type": "code",
    "id": "PBHt1___lQoJ"
   },
   "outputs": [],
   "source": [
    "df10_nonacc.insert(3, 'Year', 2010)\n",
    "df11_nonacc.insert(3, 'Year', 2011)\n",
    "df12_nonacc.insert(3, 'Year', 2012)\n",
    "df13_nonacc.insert(3, 'Year', 2013)\n",
    "df14_nonacc.insert(3, 'Year', 2014)\n",
    "\n",
    "df10_nonacc.insert(1, 'Accident', 0)\n",
    "df11_nonacc.insert(1, 'Accident', 0)\n",
    "df12_nonacc.insert(1, 'Accident', 0)\n",
    "df13_nonacc.insert(1, 'Accident', 0)\n",
    "df14_nonacc.insert(1, 'Accident', 0)"
   ]
  },
  {
   "cell_type": "code",
   "execution_count": null,
   "metadata": {
    "colab": {
     "base_uri": "https://localhost:8080/",
     "height": 669
    },
    "colab_type": "code",
    "id": "Yna-CkqC40vS",
    "outputId": "ae2773ec-e7bd-4d82-9de6-0ddc0a2b5700"
   },
   "outputs": [],
   "source": [
    "df10_nonacc.head(20)"
   ]
  },
  {
   "cell_type": "code",
   "execution_count": null,
   "metadata": {
    "colab": {
     "base_uri": "https://localhost:8080/",
     "height": 204
    },
    "colab_type": "code",
    "id": "m8jpnhsK47Wl",
    "outputId": "67d9840d-642b-4561-fd65-5e7a8240d27f"
   },
   "outputs": [],
   "source": [
    "df.head()"
   ]
  },
  {
   "cell_type": "code",
   "execution_count": null,
   "metadata": {
    "colab": {
     "base_uri": "https://localhost:8080/",
     "height": 238
    },
    "colab_type": "code",
    "id": "BiSrAEkF9QkB",
    "outputId": "9464b29d-120e-4106-8bc7-0f0d68277b27"
   },
   "outputs": [],
   "source": [
    "# 2010\n",
    "\n",
    "Weather_Fine = []\n",
    "Weather_Raining = []\n",
    "Weather_Fog = []\n",
    "Weather_Other = []\n",
    "\n",
    "T = df[df['Year'] == 2010]\n",
    "\n",
    "print('Processing weather columns' , end='')\n",
    "for i in range(1,366):\n",
    "    Weather_Fine.append(T[T['Day_of_Year'] == i]['Weather_Fine'].mean())\n",
    "    Weather_Raining.append(T[T['Day_of_Year'] == i]['Weather_Raining'].mean())\n",
    "    Weather_Fog.append(T[T['Day_of_Year'] == i]['Weather_Fog'].mean())\n",
    "    Weather_Other.append(T[T['Day_of_Year'] == i]['Weather_Other'].mean())\n",
    "    if i % 5 == 0:\n",
    "        print(\".\", end='')\n",
    "print('\\nProcessing completed!!!!')\n",
    "\n",
    "print('Processing non-accident data')\n",
    "n = len(df10_nonacc)\n",
    "\n",
    "Result = [Weather_Fine[int(df10_nonacc['Day_of_Year'].values[i]) - 1] for i in range(n)]\n",
    "df10_nonacc.insert(4, 'Weather_Fine', Result)\n",
    "\n",
    "Result = [Weather_Raining[int(df10_nonacc['Day_of_Year'].values[i]) - 1] for i in range(n)]\n",
    "df10_nonacc.insert(4, 'Weather_Raining', Result)\n",
    "\n",
    "Result = [Weather_Fog[int(df10_nonacc['Day_of_Year'].values[i]) - 1] for i in range(n)]\n",
    "df10_nonacc.insert(4, 'Weather_Fog', Result)\n",
    "\n",
    "Result = [Weather_Other[int(df10_nonacc['Day_of_Year'].values[i]) - 1] for i in range(n)]\n",
    "df10_nonacc.insert(4, 'Weather_Other', Result)\n",
    "\n",
    "print('\\nProcessing completed!!!!')"
   ]
  },
  {
   "cell_type": "code",
   "execution_count": null,
   "metadata": {},
   "outputs": [],
   "source": [
    "# 2011\n",
    "\n",
    "Weather_Fine = []\n",
    "Weather_Raining = []\n",
    "Weather_Fog = []\n",
    "Weather_Other = []\n",
    "\n",
    "T = df[df['Year'] == 2011]\n",
    "\n",
    "print('Processing weather columns' , end='')\n",
    "for i in range(1,366):\n",
    "    Weather_Fine.append(T[T['Day_of_Year'] == i]['Weather_Fine'].mean())\n",
    "    Weather_Raining.append(T[T['Day_of_Year'] == i]['Weather_Raining'].mean())\n",
    "    Weather_Fog.append(T[T['Day_of_Year'] == i]['Weather_Fog'].mean())\n",
    "    Weather_Other.append(T[T['Day_of_Year'] == i]['Weather_Other'].mean())\n",
    "    if i % 5 == 0:\n",
    "        print(\".\", end='')\n",
    "print('\\nProcessing completed!!!!')\n",
    "\n",
    "print('Processing non-accident data')\n",
    "n = len(df11_nonacc)\n",
    "\n",
    "Result = [Weather_Fine[int(df11_nonacc['Day_of_Year'].values[i]) - 1] for i in range(n)]\n",
    "df11_nonacc.insert(4, 'Weather_Fine', Result)\n",
    "\n",
    "Result = [Weather_Raining[int(df11_nonacc['Day_of_Year'].values[i]) - 1] for i in range(n)]\n",
    "df11_nonacc.insert(4, 'Weather_Raining', Result)\n",
    "\n",
    "Result = [Weather_Fog[int(df11_nonacc['Day_of_Year'].values[i]) - 1] for i in range(n)]\n",
    "df11_nonacc.insert(4, 'Weather_Fog', Result)\n",
    "\n",
    "Result = [Weather_Other[int(df11_nonacc['Day_of_Year'].values[i]) - 1] for i in range(n)]\n",
    "df11_nonacc.insert(4, 'Weather_Other', Result)\n",
    "\n",
    "print('\\nProcessing completed!!!!')"
   ]
  },
  {
   "cell_type": "code",
   "execution_count": null,
   "metadata": {},
   "outputs": [],
   "source": [
    "# 2012\n",
    "\n",
    "Weather_Fine = []\n",
    "Weather_Raining = []\n",
    "Weather_Fog = []\n",
    "Weather_Other = []\n",
    "\n",
    "T = df[df['Year'] == 2012]\n",
    "\n",
    "print('Processing weather columns' , end='')\n",
    "for i in range(1,366):\n",
    "    Weather_Fine.append(T[T['Day_of_Year'] == i]['Weather_Fine'].mean())\n",
    "    Weather_Raining.append(T[T['Day_of_Year'] == i]['Weather_Raining'].mean())\n",
    "    Weather_Fog.append(T[T['Day_of_Year'] == i]['Weather_Fog'].mean())\n",
    "    Weather_Other.append(T[T['Day_of_Year'] == i]['Weather_Other'].mean())\n",
    "    if i % 5 == 0:\n",
    "        print(\".\", end='')\n",
    "print('\\nProcessing completed!!!!')\n",
    "\n",
    "print('Processing non-accident data')\n",
    "n = len(df12_nonacc)\n",
    "\n",
    "Result = [Weather_Fine[int(df12_nonacc['Day_of_Year'].values[i]) - 1] for i in range(n)]\n",
    "df12_nonacc.insert(4, 'Weather_Fine', Result)\n",
    "\n",
    "Result = [Weather_Raining[int(df12_nonacc['Day_of_Year'].values[i]) - 1] for i in range(n)]\n",
    "df12_nonacc.insert(4, 'Weather_Raining', Result)\n",
    "\n",
    "Result = [Weather_Fog[int(df12_nonacc['Day_of_Year'].values[i]) - 1] for i in range(n)]\n",
    "df12_nonacc.insert(4, 'Weather_Fog', Result)\n",
    "\n",
    "Result = [Weather_Other[int(df12_nonacc['Day_of_Year'].values[i]) - 1] for i in range(n)]\n",
    "df12_nonacc.insert(4, 'Weather_Other', Result)\n",
    "\n",
    "print('\\nProcessing completed!!!!')"
   ]
  },
  {
   "cell_type": "code",
   "execution_count": null,
   "metadata": {},
   "outputs": [],
   "source": [
    "# 2013\n",
    "\n",
    "Weather_Fine = []\n",
    "Weather_Raining = []\n",
    "Weather_Fog = []\n",
    "Weather_Other = []\n",
    "\n",
    "T = df[df['Year'] == 2013]\n",
    "\n",
    "print('Processing weather columns' , end='')\n",
    "for i in range(1,366):\n",
    "    Weather_Fine.append(T[T['Day_of_Year'] == i]['Weather_Fine'].mean())\n",
    "    Weather_Raining.append(T[T['Day_of_Year'] == i]['Weather_Raining'].mean())\n",
    "    Weather_Fog.append(T[T['Day_of_Year'] == i]['Weather_Fog'].mean())\n",
    "    Weather_Other.append(T[T['Day_of_Year'] == i]['Weather_Other'].mean())\n",
    "    if i % 5 == 0:\n",
    "        print(\".\", end='')\n",
    "print('\\nProcessing completed!!!!')\n",
    "\n",
    "print('Processing non-accident data')\n",
    "n = len(df13_nonacc)\n",
    "\n",
    "Result = [Weather_Fine[int(df13_nonacc['Day_of_Year'].values[i]) - 1] for i in range(n)]\n",
    "df13_nonacc.insert(4, 'Weather_Fine', Result)\n",
    "\n",
    "Result = [Weather_Raining[int(df13_nonacc['Day_of_Year'].values[i]) - 1] for i in range(n)]\n",
    "df13_nonacc.insert(4, 'Weather_Raining', Result)\n",
    "\n",
    "Result = [Weather_Fog[int(df13_nonacc['Day_of_Year'].values[i]) - 1] for i in range(n)]\n",
    "df13_nonacc.insert(4, 'Weather_Fog', Result)\n",
    "\n",
    "Result = [Weather_Other[int(df13_nonacc['Day_of_Year'].values[i]) - 1] for i in range(n)]\n",
    "df13_nonacc.insert(4, 'Weather_Other', Result)\n",
    "\n",
    "print('\\nProcessing completed!!!!')"
   ]
  },
  {
   "cell_type": "code",
   "execution_count": null,
   "metadata": {},
   "outputs": [],
   "source": [
    "# 2014\n",
    "\n",
    "Weather_Fine = []\n",
    "Weather_Raining = []\n",
    "Weather_Fog = []\n",
    "Weather_Other = []\n",
    "\n",
    "T = df[df['Year'] == 2014]\n",
    "\n",
    "print('Processing weather columns' , end='')\n",
    "for i in range(1,366):\n",
    "    Weather_Fine.append(T[T['Day_of_Year'] == i]['Weather_Fine'].mean())\n",
    "    Weather_Raining.append(T[T['Day_of_Year'] == i]['Weather_Raining'].mean())\n",
    "    Weather_Fog.append(T[T['Day_of_Year'] == i]['Weather_Fog'].mean())\n",
    "    Weather_Other.append(T[T['Day_of_Year'] == i]['Weather_Other'].mean())\n",
    "    if i % 5 == 0:\n",
    "        print(\".\", end='')\n",
    "print('\\nProcessing completed!!!!')\n",
    "\n",
    "print('Processing non-accident data')\n",
    "n = len(df14_nonacc)\n",
    "\n",
    "Result = [Weather_Fine[int(df14_nonacc['Day_of_Year'].values[i]) - 1] for i in range(n)]\n",
    "df14_nonacc.insert(4, 'Weather_Fine', Result)\n",
    "\n",
    "Result = [Weather_Raining[int(df14_nonacc['Day_of_Year'].values[i]) - 1] for i in range(n)]\n",
    "df14_nonacc.insert(4, 'Weather_Raining', Result)\n",
    "\n",
    "Result = [Weather_Fog[int(df14_nonacc['Day_of_Year'].values[i]) - 1] for i in range(n)]\n",
    "df14_nonacc.insert(4, 'Weather_Fog', Result)\n",
    "\n",
    "Result = [Weather_Other[int(df14_nonacc['Day_of_Year'].values[i]) - 1] for i in range(n)]\n",
    "df14_nonacc.insert(4, 'Weather_Other', Result)\n",
    "\n",
    "print('\\nProcessing completed!!!!')"
   ]
  },
  {
   "cell_type": "code",
   "execution_count": null,
   "metadata": {},
   "outputs": [],
   "source": [
    "df10_nonacc.info()"
   ]
  },
  {
   "cell_type": "code",
   "execution_count": null,
   "metadata": {},
   "outputs": [],
   "source": [
    "df11_nonacc.info()"
   ]
  },
  {
   "cell_type": "code",
   "execution_count": null,
   "metadata": {},
   "outputs": [],
   "source": [
    "df12_nonacc.info()"
   ]
  },
  {
   "cell_type": "code",
   "execution_count": null,
   "metadata": {},
   "outputs": [],
   "source": [
    "df13_nonacc.info()"
   ]
  },
  {
   "cell_type": "code",
   "execution_count": null,
   "metadata": {},
   "outputs": [],
   "source": [
    "df14_nonacc.info()"
   ]
  },
  {
   "cell_type": "code",
   "execution_count": null,
   "metadata": {},
   "outputs": [],
   "source": [
    "df10_nonacc.to_csv('df10_nonacc.csv', index=False)\n",
    "df11_nonacc.to_csv('df11_nonacc.csv', index=False)\n",
    "df12_nonacc.to_csv('df12_nonacc.csv', index=False)\n",
    "df13_nonacc.to_csv('df13_nonacc.csv', index=False)\n",
    "df14_nonacc.to_csv('df14_nonacc.csv', index=False)"
   ]
  },
  {
   "cell_type": "markdown",
   "metadata": {},
   "source": [
    "---\n",
    "# Negative data generation Final part"
   ]
  },
  {
   "cell_type": "markdown",
   "metadata": {},
   "source": [
    "## Concatenate data Accident and non-Accident"
   ]
  },
  {
   "cell_type": "code",
   "execution_count": 42,
   "metadata": {},
   "outputs": [],
   "source": [
    "df_acc = pd.read_csv('data_processed.csv')\n",
    "df_acc = df_acc[df_acc['Year'] >= 2010]\n",
    "df_acc = df_acc[['Cluster', 'Accident', 'Hour', 'Day_of_Year', 'Weather_Other', 'Weather_Fog', 'Weather_Raining', 'Weather_Fine', 'Year', 'Day_of_Week']]"
   ]
  },
  {
   "cell_type": "code",
   "execution_count": 45,
   "metadata": {},
   "outputs": [
    {
     "data": {
      "text/plain": [
       "<bound method DataFrame.info of          Hour  Day_of_Year  Weather_Other  Weather_Fog  Weather_Raining  \\\n",
       "718592    7.0          305            1.0          0.0              0.0   \n",
       "718593   18.0          305            0.0          0.0              1.0   \n",
       "718594   10.0          335            0.0          0.0              0.0   \n",
       "718595   21.0           32            0.0          0.0              0.0   \n",
       "718596   20.0           91            0.0          0.0              0.0   \n",
       "...       ...          ...            ...          ...              ...   \n",
       "1475521  22.0          193            0.0          0.0              0.0   \n",
       "1475522   6.0          316            0.0          0.0              0.0   \n",
       "1475523   2.0          255            0.0          0.0              0.0   \n",
       "1475524   6.0          351            0.0          0.0              1.0   \n",
       "1475525  15.0          358            0.0          0.0              0.0   \n",
       "\n",
       "         Weather_Fine  Year  Day_of_Week  \n",
       "718592            0.0  2010            2  \n",
       "718593            0.0  2010            2  \n",
       "718594            1.0  2010            3  \n",
       "718595            1.0  2010            7  \n",
       "718596            1.0  2010            2  \n",
       "...               ...   ...          ...  \n",
       "1475521           0.0  2014            1  \n",
       "1475522           1.0  2014            5  \n",
       "1475523           1.0  2014            3  \n",
       "1475524           0.0  2014            4  \n",
       "1475525           1.0  2014            4  \n",
       "\n",
       "[756934 rows x 8 columns]>"
      ]
     },
     "execution_count": 45,
     "metadata": {},
     "output_type": "execute_result"
    }
   ],
   "source": [
    "# df_acc.drop([\"Cluster\",\"Accident\"], axis=1, inplace=True)\n",
    "# df_acc.head()\n",
    "df_acc.info"
   ]
  },
  {
   "cell_type": "code",
   "execution_count": null,
   "metadata": {},
   "outputs": [],
   "source": [
    "df10 = pd.read_csv('df10_nonacc.csv')\n",
    "df11 = pd.read_csv('df11_nonacc.csv')\n",
    "df12 = pd.read_csv('df12_nonacc.csv')\n",
    "df13 = pd.read_csv('df13_nonacc.csv')\n",
    "df14 = pd.read_csv('df14_nonacc.csv')"
   ]
  },
  {
   "cell_type": "code",
   "execution_count": null,
   "metadata": {},
   "outputs": [],
   "source": [
    "df14.head()"
   ]
  },
  {
   "cell_type": "code",
   "execution_count": 3,
   "metadata": {},
   "outputs": [],
   "source": [
    "# df_nonacc = pd.concat([df10, df11, df12,df13, df14])\n",
    "df_nonacc = pd.read_csv('df_nonacc.csv')"
   ]
  },
  {
   "cell_type": "code",
   "execution_count": 4,
   "metadata": {},
   "outputs": [
    {
     "name": "stdout",
     "output_type": "stream",
     "text": [
      "<class 'pandas.core.frame.DataFrame'>\n",
      "RangeIndex: 1268420 entries, 0 to 1268419\n",
      "Data columns (total 10 columns):\n",
      " #   Column           Non-Null Count    Dtype  \n",
      "---  ------           --------------    -----  \n",
      " 0   Cluster          1268420 non-null  int64  \n",
      " 1   Accident         1268420 non-null  int64  \n",
      " 2   Hour             1268420 non-null  int64  \n",
      " 3   Day_of_Year      1268420 non-null  float64\n",
      " 4   Weather_Other    1268420 non-null  float64\n",
      " 5   Weather_Fog      1268420 non-null  float64\n",
      " 6   Weather_Raining  1268420 non-null  float64\n",
      " 7   Weather_Fine     1268420 non-null  float64\n",
      " 8   Year             1268420 non-null  int64  \n",
      " 9   Day_of_Week      1268420 non-null  int64  \n",
      "dtypes: float64(5), int64(5)\n",
      "memory usage: 96.8 MB\n"
     ]
    }
   ],
   "source": [
    "df_nonacc.info()"
   ]
  },
  {
   "cell_type": "code",
   "execution_count": 5,
   "metadata": {},
   "outputs": [
    {
     "data": {
      "text/plain": [
       "<matplotlib.axes._subplots.AxesSubplot at 0x7f12fcd7a070>"
      ]
     },
     "execution_count": 5,
     "metadata": {},
     "output_type": "execute_result"
    },
    {
     "data": {
      "image/png": "[encoded data removed]",
      "text/plain": [
       "<Figure size 432x288 with 2 Axes>"
      ]
     },
     "metadata": {
      "needs_background": "light"
     },
     "output_type": "display_data"
    }
   ],
   "source": [
    "T = df_nonacc.corr().round(1)\n",
    "sns.heatmap(T, annot=True)"
   ]
  },
  {
   "cell_type": "code",
   "execution_count": 6,
   "metadata": {},
   "outputs": [
    {
     "data": {
      "text/plain": [
       "<matplotlib.axes._subplots.AxesSubplot at 0x7f12b98de3d0>"
      ]
     },
     "execution_count": 6,
     "metadata": {},
     "output_type": "execute_result"
    },
    {
     "data": {
      "image/png": "[encoded data removed]",
      "text/plain": [
       "<Figure size 432x288 with 2 Axes>"
      ]
     },
     "metadata": {
      "needs_background": "light"
     },
     "output_type": "display_data"
    }
   ],
   "source": [
    "T = df_acc.corr().round(1)\n",
    "sns.heatmap(T, annot=True)"
   ]
  },
  {
   "cell_type": "markdown",
   "metadata": {},
   "source": [
    "---"
   ]
  },
  {
   "cell_type": "code",
   "execution_count": 36,
   "metadata": {},
   "outputs": [],
   "source": [
    "data = pd.concat([df_acc, df_nonacc]).reset_index(drop=True)\n",
    "\n",
    "# index = [i for i in range(data.shape[0])]\n",
    "# random.shuffle(index)\n",
    "# data = data.set_index([index]).sort_index()"
   ]
  },
  {
   "cell_type": "code",
   "execution_count": 39,
   "metadata": {},
   "outputs": [
    {
     "data": {
      "text/html": [
       "<div>\n",
       "<style scoped>\n",
       "    .dataframe tbody tr th:only-of-type {\n",
       "        vertical-align: middle;\n",
       "    }\n",
       "\n",
       "    .dataframe tbody tr th {\n",
       "        vertical-align: top;\n",
       "    }\n",
       "\n",
       "    .dataframe thead th {\n",
       "        text-align: right;\n",
       "    }\n",
       "</style>\n",
       "<table border=\"1\" class=\"dataframe\">\n",
       "  <thead>\n",
       "    <tr style=\"text-align: right;\">\n",
       "      <th></th>\n",
       "      <th>Hour</th>\n",
       "      <th>Day_of_Year</th>\n",
       "      <th>Weather_Other</th>\n",
       "      <th>Weather_Fog</th>\n",
       "      <th>Weather_Raining</th>\n",
       "      <th>Weather_Fine</th>\n",
       "      <th>Year</th>\n",
       "      <th>Day_of_Week</th>\n",
       "    </tr>\n",
       "  </thead>\n",
       "  <tbody>\n",
       "    <tr>\n",
       "      <th>0</th>\n",
       "      <td>0.291667</td>\n",
       "      <td>0.833333</td>\n",
       "      <td>1.0</td>\n",
       "      <td>0.0</td>\n",
       "      <td>0.0</td>\n",
       "      <td>0.0</td>\n",
       "      <td>10</td>\n",
       "      <td>2</td>\n",
       "    </tr>\n",
       "    <tr>\n",
       "      <th>1</th>\n",
       "      <td>0.750000</td>\n",
       "      <td>0.833333</td>\n",
       "      <td>0.0</td>\n",
       "      <td>0.0</td>\n",
       "      <td>1.0</td>\n",
       "      <td>0.0</td>\n",
       "      <td>10</td>\n",
       "      <td>2</td>\n",
       "    </tr>\n",
       "    <tr>\n",
       "      <th>2</th>\n",
       "      <td>0.416667</td>\n",
       "      <td>0.915301</td>\n",
       "      <td>0.0</td>\n",
       "      <td>0.0</td>\n",
       "      <td>0.0</td>\n",
       "      <td>1.0</td>\n",
       "      <td>10</td>\n",
       "      <td>3</td>\n",
       "    </tr>\n",
       "    <tr>\n",
       "      <th>3</th>\n",
       "      <td>0.875000</td>\n",
       "      <td>0.087432</td>\n",
       "      <td>0.0</td>\n",
       "      <td>0.0</td>\n",
       "      <td>0.0</td>\n",
       "      <td>1.0</td>\n",
       "      <td>10</td>\n",
       "      <td>7</td>\n",
       "    </tr>\n",
       "    <tr>\n",
       "      <th>4</th>\n",
       "      <td>0.833333</td>\n",
       "      <td>0.248634</td>\n",
       "      <td>0.0</td>\n",
       "      <td>0.0</td>\n",
       "      <td>0.0</td>\n",
       "      <td>1.0</td>\n",
       "      <td>10</td>\n",
       "      <td>2</td>\n",
       "    </tr>\n",
       "    <tr>\n",
       "      <th>5</th>\n",
       "      <td>0.583333</td>\n",
       "      <td>0.049180</td>\n",
       "      <td>0.0</td>\n",
       "      <td>0.0</td>\n",
       "      <td>0.0</td>\n",
       "      <td>1.0</td>\n",
       "      <td>10</td>\n",
       "      <td>2</td>\n",
       "    </tr>\n",
       "    <tr>\n",
       "      <th>6</th>\n",
       "      <td>0.333333</td>\n",
       "      <td>0.163934</td>\n",
       "      <td>0.0</td>\n",
       "      <td>0.0</td>\n",
       "      <td>0.0</td>\n",
       "      <td>1.0</td>\n",
       "      <td>10</td>\n",
       "      <td>1</td>\n",
       "    </tr>\n",
       "    <tr>\n",
       "      <th>7</th>\n",
       "      <td>0.958333</td>\n",
       "      <td>0.248634</td>\n",
       "      <td>0.0</td>\n",
       "      <td>0.0</td>\n",
       "      <td>0.0</td>\n",
       "      <td>1.0</td>\n",
       "      <td>10</td>\n",
       "      <td>2</td>\n",
       "    </tr>\n",
       "    <tr>\n",
       "      <th>8</th>\n",
       "      <td>0.250000</td>\n",
       "      <td>0.248634</td>\n",
       "      <td>1.0</td>\n",
       "      <td>0.0</td>\n",
       "      <td>0.0</td>\n",
       "      <td>0.0</td>\n",
       "      <td>10</td>\n",
       "      <td>2</td>\n",
       "    </tr>\n",
       "    <tr>\n",
       "      <th>9</th>\n",
       "      <td>0.750000</td>\n",
       "      <td>0.248634</td>\n",
       "      <td>0.0</td>\n",
       "      <td>0.0</td>\n",
       "      <td>0.0</td>\n",
       "      <td>1.0</td>\n",
       "      <td>10</td>\n",
       "      <td>2</td>\n",
       "    </tr>\n",
       "  </tbody>\n",
       "</table>\n",
       "</div>"
      ],
      "text/plain": [
       "       Hour  Day_of_Year  Weather_Other  Weather_Fog  Weather_Raining  \\\n",
       "0  0.291667     0.833333            1.0          0.0              0.0   \n",
       "1  0.750000     0.833333            0.0          0.0              1.0   \n",
       "2  0.416667     0.915301            0.0          0.0              0.0   \n",
       "3  0.875000     0.087432            0.0          0.0              0.0   \n",
       "4  0.833333     0.248634            0.0          0.0              0.0   \n",
       "5  0.583333     0.049180            0.0          0.0              0.0   \n",
       "6  0.333333     0.163934            0.0          0.0              0.0   \n",
       "7  0.958333     0.248634            0.0          0.0              0.0   \n",
       "8  0.250000     0.248634            1.0          0.0              0.0   \n",
       "9  0.750000     0.248634            0.0          0.0              0.0   \n",
       "\n",
       "   Weather_Fine  Year  Day_of_Week  \n",
       "0           0.0    10            2  \n",
       "1           0.0    10            2  \n",
       "2           1.0    10            3  \n",
       "3           1.0    10            7  \n",
       "4           1.0    10            2  \n",
       "5           1.0    10            2  \n",
       "6           1.0    10            1  \n",
       "7           1.0    10            2  \n",
       "8           0.0    10            2  \n",
       "9           1.0    10            2  "
      ]
     },
     "execution_count": 39,
     "metadata": {},
     "output_type": "execute_result"
    }
   ],
   "source": [
    "data.head(10)"
   ]
  },
  {
   "cell_type": "code",
   "execution_count": 9,
   "metadata": {},
   "outputs": [
    {
     "name": "stdout",
     "output_type": "stream",
     "text": [
      "<class 'pandas.core.frame.DataFrame'>\n",
      "RangeIndex: 2025354 entries, 0 to 2025353\n",
      "Data columns (total 10 columns):\n",
      " #   Column           Dtype  \n",
      "---  ------           -----  \n",
      " 0   Cluster          int64  \n",
      " 1   Accident         int64  \n",
      " 2   Hour             float64\n",
      " 3   Day_of_Year      float64\n",
      " 4   Weather_Other    float64\n",
      " 5   Weather_Fog      float64\n",
      " 6   Weather_Raining  float64\n",
      " 7   Weather_Fine     float64\n",
      " 8   Year             int64  \n",
      " 9   Day_of_Week      int64  \n",
      "dtypes: float64(6), int64(4)\n",
      "memory usage: 154.5 MB\n"
     ]
    }
   ],
   "source": [
    "data.info()"
   ]
  },
  {
   "cell_type": "code",
   "execution_count": 10,
   "metadata": {},
   "outputs": [],
   "source": [
    "data['Cluster'] = data['Cluster']/39"
   ]
  },
  {
   "cell_type": "code",
   "execution_count": 11,
   "metadata": {},
   "outputs": [],
   "source": [
    "data['Hour'] = data['Hour']/24"
   ]
  },
  {
   "cell_type": "code",
   "execution_count": 12,
   "metadata": {},
   "outputs": [],
   "source": [
    "data['Day_of_Year'] = data['Day_of_Year']/366"
   ]
  },
  {
   "cell_type": "code",
   "execution_count": 13,
   "metadata": {},
   "outputs": [],
   "source": [
    "data['Year'] = data['Year'] % 2000"
   ]
  },
  {
   "cell_type": "markdown",
   "metadata": {},
   "source": [
    "## Normalization"
   ]
  },
  {
   "cell_type": "code",
   "execution_count": null,
   "metadata": {},
   "outputs": [],
   "source": [
    "for i in data.columns:\n",
    "    print('Column %s' %i)\n",
    "    print('Max: %s' %data[i].max())\n",
    "    print('Min: %s' %data[i].min())\n",
    "    print(\"*\"*10)"
   ]
  },
  {
   "cell_type": "markdown",
   "metadata": {},
   "source": [
    "---"
   ]
  },
  {
   "cell_type": "markdown",
   "metadata": {},
   "source": [
    "## Create Train/Test set"
   ]
  },
  {
   "cell_type": "code",
   "execution_count": 20,
   "metadata": {},
   "outputs": [],
   "source": [
    "df_acc = data[data['Accident'] == 1].reset_index(drop=True)\n",
    "df_nonacc = data[data['Accident'] == 0].reset_index(drop=True)\n",
    "\n",
    "acc_index = df_acc.index\n",
    "nonacc_index = df_nonacc.index\n",
    "\n",
    "acc_index_train, acc_index_test = train_test_split(acc_index, test_size=0.2)\n",
    "nonacc_index_train, nonacc_index_test = train_test_split(nonacc_index, test_size=0.2)\n",
    "\n",
    "df_acc_train = df_acc.iloc[acc_index_train]\n",
    "df_acc_test = df_acc.iloc[acc_index_test]\n",
    "\n",
    "df_nonacc_train = df_nonacc.iloc[nonacc_index_train]\n",
    "df_nonacc_test = df_nonacc.iloc[nonacc_index_test]"
   ]
  },
  {
   "cell_type": "code",
   "execution_count": 26,
   "metadata": {},
   "outputs": [],
   "source": [
    "df_train = pd.concat([df_acc_train, df_nonacc_train])\n",
    "df_test = pd.concat([df_acc_test, df_nonacc_test])\n"
   ]
  },
  {
   "cell_type": "code",
   "execution_count": 27,
   "metadata": {},
   "outputs": [],
   "source": [
    "X_train = df_train[['Cluster', 'Hour', 'Day_of_Year', 'Day_of_Week', 'Weather_Fine', 'Weather_Raining', 'Weather_Fog', 'Weather_Other', 'Year']].values\n",
    "y_train = df_train['Accident'].values\n",
    "\n",
    "X_test = df_test[['Cluster', 'Hour', 'Day_of_Year', 'Day_of_Week', 'Weather_Fine', 'Weather_Raining', 'Weather_Fog', 'Weather_Other', 'Year']].values\n",
    "y_test = df_test['Accident'].values"
   ]
  },
  {
   "cell_type": "code",
   "execution_count": 28,
   "metadata": {},
   "outputs": [],
   "source": [
    "n_train = len(X_train)\n",
    "n_test = len(X_test)"
   ]
  },
  {
   "cell_type": "code",
   "execution_count": 29,
   "metadata": {},
   "outputs": [
    {
     "name": "stdout",
     "output_type": "stream",
     "text": [
      "Accident train 605547\n",
      "Non-Accident train 1014736\n",
      "Accident test 151387\n",
      "Non-Accident test 253684\n"
     ]
    }
   ],
   "source": [
    "print('Accident train', len(df_train[df_train['Accident'] == 1]))\n",
    "print('Non-Accident train', len(df_train[df_train['Accident'] == 0]))\n",
    "\n",
    "print('Accident test', len(df_test[df_test['Accident'] == 1]))\n",
    "print('Non-Accident test', len(df_test[df_test['Accident'] == 0]))"
   ]
  },
  {
   "cell_type": "markdown",
   "metadata": {},
   "source": [
    "---\n",
    "# Select Model"
   ]
  },
  {
   "cell_type": "markdown",
   "metadata": {},
   "source": [
    "## Logistic Regression"
   ]
  },
  {
   "cell_type": "code",
   "execution_count": null,
   "metadata": {},
   "outputs": [],
   "source": [
    "# model = LogisticRegression()\n",
    "# model.fit(X_train, y_train)\n",
    "# model.score(X_test, y_test)"
   ]
  },
  {
   "cell_type": "code",
   "execution_count": null,
   "metadata": {},
   "outputs": [],
   "source": [
    "# y_pred_proba = model.predict_proba(X_test)[::,1]\n",
    "# fpr, tpr, _ = metrics.roc_curve(y_test,  y_pred_proba)\n",
    "# auc = metrics.roc_auc_score(y_test, y_pred_proba)\n",
    "# plt.plot(fpr,tpr,label=\"data 1, auc=\"+str(auc))\n",
    "# plt.legend(loc=4)\n",
    "# plt.show()"
   ]
  },
  {
   "cell_type": "markdown",
   "metadata": {},
   "source": [
    "## Random Forest Classifier"
   ]
  },
  {
   "cell_type": "code",
   "execution_count": 30,
   "metadata": {},
   "outputs": [
    {
     "data": {
      "text/plain": [
       "0.9998666900370552"
      ]
     },
     "execution_count": 30,
     "metadata": {},
     "output_type": "execute_result"
    }
   ],
   "source": [
    "model = RandomForestClassifier()\n",
    "model.fit(X_train, y_train)\n",
    "model.score(X_test, y_test)"
   ]
  },
  {
   "cell_type": "code",
   "execution_count": 31,
   "metadata": {},
   "outputs": [],
   "source": [
    "y_pre = model.predict(X_test)"
   ]
  },
  {
   "cell_type": "code",
   "execution_count": 32,
   "metadata": {},
   "outputs": [
    {
     "data": {
      "text/plain": [
       "array([[253656,     28],\n",
       "       [    26, 151361]])"
      ]
     },
     "execution_count": 32,
     "metadata": {},
     "output_type": "execute_result"
    }
   ],
   "source": [
    "cnf_matrix = metrics.confusion_matrix(y_test, y_pre)\n",
    "cnf_matrix"
   ]
  },
  {
   "cell_type": "code",
   "execution_count": 33,
   "metadata": {},
   "outputs": [
    {
     "data": {
      "text/plain": [
       "Text(0.5, 257.44, 'Nhãn dự đoán')"
      ]
     },
     "execution_count": 33,
     "metadata": {},
     "output_type": "execute_result"
    },
    {
     "data": {
      "image/png": "[encoded data removed]",
      "text/plain": [
       "<Figure size 432x288 with 2 Axes>"
      ]
     },
     "metadata": {
      "needs_background": "light"
     },
     "output_type": "display_data"
    }
   ],
   "source": [
    "class_names=[0,1] # name  of classes\n",
    "fig, ax = plt.subplots()\n",
    "tick_marks = np.arange(len(class_names))\n",
    "plt.xticks(tick_marks, class_names)\n",
    "plt.yticks(tick_marks, class_names)\n",
    "# create heatmap\n",
    "sns.heatmap(pd.DataFrame(cnf_matrix), annot=True, cmap=\"YlGnBu\" ,fmt='g')\n",
    "ax.xaxis.set_label_position(\"top\")\n",
    "plt.tight_layout()\n",
    "plt.title('Confusion matrix', y=1.1)\n",
    "plt.ylabel('Nhãn thực sự')\n",
    "plt.xlabel('Nhãn dự đoán')"
   ]
  },
  {
   "cell_type": "code",
   "execution_count": 34,
   "metadata": {},
   "outputs": [
    {
     "name": "stdout",
     "output_type": "stream",
     "text": [
      "Accuracy: 0.9998666900370552\n",
      "Precision: 0.9998150460073056\n",
      "Recall: 0.9998282547378573\n"
     ]
    }
   ],
   "source": [
    "print(\"Accuracy:\",metrics.accuracy_score(y_test, y_pre))\n",
    "print(\"Precision:\",metrics.precision_score(y_test, y_pre))\n",
    "print(\"Recall:\",metrics.recall_score(y_test, y_pre))"
   ]
  },
  {
   "cell_type": "code",
   "execution_count": 37,
   "metadata": {},
   "outputs": [
    {
     "data": {
      "text/plain": [
       "Weather_Other      0.353992\n",
       "Weather_Fine       0.353881\n",
       "Weather_Raining    0.232244\n",
       "Weather_Fog        0.026534\n",
       "Day_of_Week        0.013544\n",
       "Hour               0.008608\n",
       "Day_of_Year        0.008294\n",
       "Cluster            0.001556\n",
       "Year               0.001348\n",
       "dtype: float64"
      ]
     },
     "execution_count": 37,
     "metadata": {},
     "output_type": "execute_result"
    }
   ],
   "source": [
    "features = ['Cluster', 'Hour', 'Day_of_Year', 'Day_of_Week', 'Weather_Fine', 'Weather_Raining', 'Weather_Fog', 'Weather_Other', 'Year']\n",
    "feature_imp = pd.Series(model.feature_importances_,index=features).sort_values(ascending=False)\n",
    "feature_imp"
   ]
  },
  {
   "cell_type": "code",
   "execution_count": 38,
   "metadata": {},
   "outputs": [
    {
     "data": {
      "image/png": "[encoded data removed]",
      "text/plain": [
       "<Figure size 432x288 with 1 Axes>"
      ]
     },
     "metadata": {
      "needs_background": "light"
     },
     "output_type": "display_data"
    }
   ],
   "source": [
    "sns.barplot(x=feature_imp, y=feature_imp.index)\n",
    "# Add labels to your graph\n",
    "plt.xlabel('Feature Importance Score')\n",
    "plt.ylabel('Features')\n",
    "plt.title(\"Visualizing Important Features\")\n",
    "plt.show()"
   ]
  },
  {
   "cell_type": "markdown",
   "metadata": {},
   "source": [
    "---"
   ]
  },
  {
   "cell_type": "markdown",
   "metadata": {},
   "source": [
    "# Export Result Analysis"
   ]
  },
  {
   "cell_type": "code",
   "execution_count": null,
   "metadata": {},
   "outputs": [],
   "source": [
    "K = 40\n",
    "N = []\n",
    "Day_of_Year = 120\n",
    "Weather_Fine = 1\n",
    "Weather_Raining = 0\n",
    "Weather_Fog = 0\n",
    "Weather_Other = 0\n",
    "Year = 2020\n",
    "\n",
    "for i in range(K):\n",
    "    for j in range(24):\n",
    "        sample = [i, j, Day_of_Year, Weather_Fine, Weather_Raining, Weather_Fog, Weather_Other, Year]\n",
    "        N.append(sample)\n",
    "\n",
    "# ['Cluster', 'Hour', 'Day_of_Year', 'Weather_Fine', 'Weather_Raining', 'Weather_Fog', 'Weather_Other', 'Year']\n",
    "predicted = model.predict_proba(N)\n"
   ]
  },
  {
   "cell_type": "code",
   "execution_count": null,
   "metadata": {},
   "outputs": [],
   "source": [
    "data_input = np.array(N)\n",
    "data_predicted = np.array(predicted)\n",
    "data_output = np.concatenate((data_input, data_predicted), axis=1)\n",
    "\n",
    "df_out = pd.DataFrame(data=data_output, columns=['Cluster', 'Hour', 'Day_of_Year', 'Weather_Fine', 'Weather_Raining', 'Weather_Fog', 'Weather_Other', 'Year', '0', '1'])"
   ]
  },
  {
   "cell_type": "code",
   "execution_count": null,
   "metadata": {},
   "outputs": [],
   "source": [
    "df_out = df_out.drop(['Day_of_Year', 'Weather_Fine', 'Weather_Raining', 'Weather_Fog', 'Weather_Other', 'Year'], axis=1)"
   ]
  },
  {
   "cell_type": "code",
   "execution_count": null,
   "metadata": {},
   "outputs": [],
   "source": [
    "Cluster = pd.read_csv('Cluster.csv')"
   ]
  },
  {
   "cell_type": "code",
   "execution_count": null,
   "metadata": {},
   "outputs": [],
   "source": [
    "Lat = Cluster['Lat'].values\n",
    "Lng = Cluster['Lng'].values"
   ]
  },
  {
   "cell_type": "code",
   "execution_count": null,
   "metadata": {},
   "outputs": [],
   "source": [
    "Lat_add = []\n",
    "Lng_add = []\n",
    "\n",
    "for i in df_out['Cluster']:\n",
    "    Lat_add.append(Lat[int(i)])\n",
    "    Lng_add.append(Lng[int(i)])"
   ]
  },
  {
   "cell_type": "code",
   "execution_count": null,
   "metadata": {},
   "outputs": [],
   "source": [
    "df_out.insert(1, 'Lat', Lat_add)\n",
    "df_out.insert(2, 'Lng', Lng_add)"
   ]
  },
  {
   "cell_type": "code",
   "execution_count": null,
   "metadata": {},
   "outputs": [],
   "source": [
    "df_out.head()"
   ]
  },
  {
   "cell_type": "code",
   "execution_count": null,
   "metadata": {},
   "outputs": [],
   "source": [
    "df_out.to_csv('predict_out.csv', index=False)"
   ]
  },
  {
   "cell_type": "markdown",
   "metadata": {},
   "source": [
    "---"
   ]
  },
  {
   "cell_type": "markdown",
   "metadata": {},
   "source": [
    "# Use Kepler to visualization"
   ]
  },
  {
   "cell_type": "code",
   "execution_count": null,
   "metadata": {},
   "outputs": [],
   "source": [
    "data = pd.read_csv('predict_out.csv')"
   ]
  },
  {
   "cell_type": "code",
   "execution_count": null,
   "metadata": {},
   "outputs": [],
   "source": [
    "len(data[data['1'] > 0.5])"
   ]
  },
  {
   "cell_type": "code",
   "execution_count": null,
   "metadata": {},
   "outputs": [],
   "source": [
    "for i in range(24):\n",
    "    df = data[data['Hour'] == i]\n",
    "    df.to_csv('predict_hour_' + str(i) + '.csv', index=False)"
   ]
  },
  {
   "cell_type": "code",
   "execution_count": null,
   "metadata": {},
   "outputs": [],
   "source": [
    "from keplergl import KeplerGl\n",
    "map_1 = KeplerGl(height=400)\n",
    "map_1.add_data(data=data, name='data_1')"
   ]
  },
  {
   "cell_type": "markdown",
   "metadata": {},
   "source": [
    "---\n",
    "# Kiểm định"
   ]
  },
  {
   "cell_type": "code",
   "execution_count": null,
   "metadata": {},
   "outputs": [],
   "source": [
    "df10 = pd.read_csv('df10_nonacc.csv')\n",
    "df11 = pd.read_csv('df11_nonacc.csv')\n",
    "df12 = pd.read_csv('df12_nonacc.csv')\n",
    "df13 = pd.read_csv('df13_nonacc.csv')\n",
    "df14 = pd.read_csv('df14_nonacc.csv')"
   ]
  },
  {
   "cell_type": "code",
   "execution_count": null,
   "metadata": {},
   "outputs": [],
   "source": [
    "# df_nonacc = pd.concat([df10, df11, df12,df13, df14])"
   ]
  },
  {
   "cell_type": "code",
   "execution_count": null,
   "metadata": {},
   "outputs": [],
   "source": [
    "df_acc = pd.read_csv('data_processed.csv')\n",
    "df_acc = df_acc[df_acc['Year'] >= 2010]\n",
    "# df_acc = df_acc[['Cluster', 'Accident', 'Hour', 'Day_of_Year', 'Weather_Other', 'Weather_Fog', 'Weather_Raining', 'Weather_Fine', 'Year']]"
   ]
  },
  {
   "cell_type": "code",
   "execution_count": null,
   "metadata": {},
   "outputs": [],
   "source": [
    "df_acc.head()"
   ]
  },
  {
   "cell_type": "code",
   "execution_count": 46,
   "metadata": {},
   "outputs": [],
   "source": [
    "# 2010\n",
    "day_of_year = np.arange(1,366)\n",
    "df = pd.DataFrame()\n",
    "df['Day_of_Year'] = day_of_year\n",
    "df['Year'] = 2010\n",
    "\n",
    "day_of_week = []\n",
    "for i in range(len(df)):\n",
    "    dt = datetime.datetime.strptime(str(df['Year'][i]) + \" \" +str(df['Day_of_Year'][i]), '%Y %j')\n",
    "    day_of_week.append(dt.weekday())\n",
    "    \n",
    "# df['Day_of_Week'] = day_of_week\n",
    "\n",
    "Day_of_Week = []\n",
    "for i in range(len(df10)):\n",
    "    t = int(df10['Day_of_Year'][i])\n",
    "    Day_of_Week.append(day_of_week[t-1])\n",
    "df10['Day_of_Week'] = Day_of_Week"
   ]
  },
  {
   "cell_type": "code",
   "execution_count": 47,
   "metadata": {},
   "outputs": [],
   "source": [
    "# 2011\n",
    "day_of_year = np.arange(1,366)\n",
    "df = pd.DataFrame()\n",
    "df['Day_of_Year'] = day_of_year\n",
    "df['Year'] = 2011\n",
    "\n",
    "day_of_week = []\n",
    "for i in range(len(df)):\n",
    "    dt = datetime.datetime.strptime(str(df['Year'][i]) + \" \" +str(df['Day_of_Year'][i]), '%Y %j')\n",
    "    day_of_week.append(dt.weekday())\n",
    "    \n",
    "# df['Day_of_Week'] = day_of_week\n",
    "\n",
    "Day_of_Week = []\n",
    "for i in range(len(df11)):\n",
    "    t = int(df11['Day_of_Year'][i])\n",
    "    Day_of_Week.append(day_of_week[t-1])\n",
    "df11['Day_of_Week'] = Day_of_Week"
   ]
  },
  {
   "cell_type": "code",
   "execution_count": 48,
   "metadata": {},
   "outputs": [],
   "source": [
    "# 2012\n",
    "day_of_year = np.arange(1,367)\n",
    "df = pd.DataFrame()\n",
    "df['Day_of_Year'] = day_of_year\n",
    "df['Year'] = 2012\n",
    "\n",
    "day_of_week = []\n",
    "for i in range(len(df)):\n",
    "    dt = datetime.datetime.strptime(str(df['Year'][i]) + \" \" +str(df['Day_of_Year'][i]), '%Y %j')\n",
    "    day_of_week.append(dt.weekday())\n",
    "    \n",
    "# df['Day_of_Week'] = day_of_week\n",
    "\n",
    "Day_of_Week = []\n",
    "for i in range(len(df12)):\n",
    "    t = int(df12['Day_of_Year'][i])\n",
    "    Day_of_Week.append(day_of_week[t-1])\n",
    "df12['Day_of_Week'] = Day_of_Week"
   ]
  },
  {
   "cell_type": "code",
   "execution_count": 49,
   "metadata": {},
   "outputs": [],
   "source": [
    "# 2013\n",
    "day_of_year = np.arange(1,366)\n",
    "df = pd.DataFrame()\n",
    "df['Day_of_Year'] = day_of_year\n",
    "df['Year'] = 2013\n",
    "\n",
    "day_of_week = []\n",
    "for i in range(len(df)):\n",
    "    dt = datetime.datetime.strptime(str(df['Year'][i]) + \" \" +str(df['Day_of_Year'][i]), '%Y %j')\n",
    "    day_of_week.append(dt.weekday())\n",
    "    \n",
    "# df['Day_of_Week'] = day_of_week\n",
    "\n",
    "Day_of_Week = []\n",
    "for i in range(len(df13)):\n",
    "    t = int(df13['Day_of_Year'][i])\n",
    "    Day_of_Week.append(day_of_week[t-1])\n",
    "df13['Day_of_Week'] = Day_of_Week"
   ]
  },
  {
   "cell_type": "code",
   "execution_count": 50,
   "metadata": {},
   "outputs": [],
   "source": [
    "# 2014\n",
    "day_of_year = np.arange(1,366)\n",
    "df = pd.DataFrame()\n",
    "df['Day_of_Year'] = day_of_year\n",
    "df['Year'] = 2014\n",
    "\n",
    "day_of_week = []\n",
    "for i in range(len(df)):\n",
    "    dt = datetime.datetime.strptime(str(df['Year'][i]) + \" \" +str(df['Day_of_Year'][i]), '%Y %j')\n",
    "    day_of_week.append(dt.weekday())\n",
    "    \n",
    "# df['Day_of_Week'] = day_of_week\n",
    "\n",
    "Day_of_Week = []\n",
    "for i in range(len(df14)):\n",
    "    t = int(df14['Day_of_Year'][i])\n",
    "    Day_of_Week.append(day_of_week[t-1])\n",
    "df14['Day_of_Week'] = Day_of_Week"
   ]
  },
  {
   "cell_type": "code",
   "execution_count": 51,
   "metadata": {},
   "outputs": [],
   "source": [
    "df_nonacc = pd.concat([df10, df11, df12,df13, df14])\n",
    "df_nonacc.to_csv('df_nonacc.csv', index=False)"
   ]
  },
  {
   "cell_type": "markdown",
   "metadata": {},
   "source": [
    "---"
   ]
  }
 ],
 "metadata": {
  "colab": {
   "collapsed_sections": [],
   "name": "Negative data generation.ipynb",
   "provenance": [],
   "toc_visible": true
  },
  "kernelspec": {
   "display_name": "Python 3",
   "language": "python",
   "name": "python3"
  },
  "language_info": {
   "codemirror_mode": {
    "name": "ipython",
    "version": 3
   },
   "file_extension": ".py",
   "mimetype": "text/x-python",
   "name": "python",
   "nbconvert_exporter": "python",
   "pygments_lexer": "ipython3",
   "version": "3.8.2"
  }
 },
 "nbformat": 4,
 "nbformat_minor": 4
}
