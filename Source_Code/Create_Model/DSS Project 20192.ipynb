{
 "cells": [
  {
   "cell_type": "markdown",
   "metadata": {},
   "source": [
    "<h1>Author: <b>Thanh HoangVan</b></h1>\n",
    "<h2>School of Applied Mathematics and Informatics</h2>\n",
    "\n",
    "Email: thanh.hoangvan051199@gmail.com - thanh.hv173586@sis.hust.edu.vn"
   ]
  },
  {
   "cell_type": "markdown",
   "metadata": {},
   "source": [
    "# Import Libray"
   ]
  },
  {
   "cell_type": "code",
   "execution_count": 32,
   "metadata": {},
   "outputs": [],
   "source": [
    "import numpy as np\n",
    "import matplotlib.pyplot as plt\n",
    "import seaborn as sns\n",
    "import pandas as pd\n",
    "from sklearn.cluster import KMeans\n",
    "from numpy import random"
   ]
  },
  {
   "cell_type": "markdown",
   "metadata": {},
   "source": [
    "# Read data from file"
   ]
  },
  {
   "cell_type": "code",
   "execution_count": 33,
   "metadata": {},
   "outputs": [],
   "source": [
    "path1 = 'accidents_2005_to_2007.csv'\n",
    "path2 = 'accidents_2009_to_2011.csv'\n",
    "path3 =  'accidents_2012_to_2014.csv'\n",
    "#path4 = 'ukTrafficAADF.csv'\n",
    "\n",
    "data1 = pd.read_csv(path1, low_memory=False)\n",
    "data2 = pd.read_csv(path2, low_memory=False)\n",
    "data3 = pd.read_csv(path3, low_memory=False)\n",
    "\n",
    "data = pd.concat([data1, data2, data3])\n",
    "\n",
    "del data1, data2, data3"
   ]
  },
  {
   "cell_type": "markdown",
   "metadata": {},
   "source": [
    "# Feature Engineering"
   ]
  },
  {
   "cell_type": "markdown",
   "metadata": {},
   "source": [
    "## Drop Columns"
   ]
  },
  {
   "cell_type": "code",
   "execution_count": 34,
   "metadata": {},
   "outputs": [],
   "source": [
    "data.drop(['Accident_Index', 'Junction_Detail', 'Junction_Control', 'Location_Easting_OSGR', 'Location_Northing_OSGR', \\\n",
    "'Special_Conditions_at_Site', 'Carriageway_Hazards', 'Did_Police_Officer_Attend_Scene_of_Accident', 'LSOA_of_Accident_Location', \\\n",
    "'Local_Authority_(Highway)', 'Pedestrian_Crossing-Human_Control', 'Pedestrian_Crossing-Physical_Facilities', 'Light_Conditions', \\\n",
    "'Road_Surface_Conditions', 'Road_Type'], axis=1, inplace=True)"
   ]
  },
  {
   "cell_type": "markdown",
   "metadata": {},
   "source": [
    "## Date column"
   ]
  },
  {
   "cell_type": "code",
   "execution_count": 35,
   "metadata": {},
   "outputs": [],
   "source": [
    "data['Date'] = data['Date'].astype('datetime64[ns]')\n",
    "data.insert(6, 'Month', data['Date'].dt.month)\n",
    "data.insert(6, 'Day_of_Year', data['Date'].dt.dayofyear)\n",
    "\n",
    "data.drop(['Date'], axis=True, inplace=True)"
   ]
  },
  {
   "cell_type": "markdown",
   "metadata": {},
   "source": [
    "## Time column"
   ]
  },
  {
   "cell_type": "code",
   "execution_count": 36,
   "metadata": {},
   "outputs": [],
   "source": [
    "data['Time'] = data['Time'].astype('str').str.split(':')\n",
    "data.insert(8, 'Hour', data['Time'].str[0])\n",
    "#data.insert(9, 'Minute', data['Time'].str[1])\n",
    "\n",
    "data.drop(['Time'], axis=1, inplace=True)"
   ]
  },
  {
   "cell_type": "code",
   "execution_count": 37,
   "metadata": {},
   "outputs": [],
   "source": [
    "data['Hour'] = pd.to_numeric(data['Hour'], errors='coerce')\n",
    "#data['Minute'] = pd.to_numeric(data['Minute'], errors='coerce')"
   ]
  },
  {
   "cell_type": "markdown",
   "metadata": {},
   "source": [
    "## Weather column"
   ]
  },
  {
   "cell_type": "code",
   "execution_count": 38,
   "metadata": {},
   "outputs": [],
   "source": [
    "T = data['Weather_Conditions'].astype('str').str.split(' ')\n",
    "\n",
    "data.insert(6, \"Weather_Fine\" ,T.str[0])\n",
    "data.insert(7, \"Weather_Raining\" ,T.str[0])\n",
    "data.insert(8, \"Weather_Fog\" ,T.str[0])\n",
    "data.insert(9, \"Weather_Other\" ,T.str[0])\n",
    "#data.insert(10, \"Weather_High_Winds\" ,T.str[1])\n",
    "\n",
    "data['Weather_Fine'].replace('Fine', 1, inplace=True)\n",
    "data['Weather_Fine'].replace(['Raining', 'Snowing', 'Other', 'Fog'], 0, inplace=True)\n",
    "data['Weather_Fine'].replace(['Unknown', 'nan'], np.nan, inplace=True)\n",
    "\n",
    "data['Weather_Raining'].replace('Raining', 1, inplace=True)\n",
    "data['Weather_Raining'].replace(['Fine', 'Snowing', 'Other', 'Fog'], 0, inplace=True)\n",
    "data['Weather_Raining'].replace(['Unknown', 'nan'], np.nan, inplace=True)\n",
    "\n",
    "data['Weather_Fog'].replace('Fog', 1, inplace=True)\n",
    "data['Weather_Fog'].replace(['Fine', 'Snowing', 'Other', 'Raining'], 0, inplace=True)\n",
    "data['Weather_Fog'].replace(['Unknown', 'nan'], np.nan, inplace=True)\n",
    "\n",
    "data['Weather_Other'].replace('Other', 1, inplace=True)\n",
    "data['Weather_Other'].replace(['Fine', 'Snowing', 'Fog', 'Raining'], 0, inplace=True)\n",
    "data['Weather_Other'].replace(['Unknown', 'nan'], np.nan, inplace=True)\n",
    "\n",
    "#data['Weather_High_Winds'].replace('with', 1, inplace=True)\n",
    "#data['Weather_High_Winds'].replace('without', 0, inplace=True)\n",
    "#data['Weather_High_Winds'].replace(['nan', 'or'], np.nan, inplace=True)\n",
    "\n",
    "data.drop(['Weather_Conditions'], axis=1, inplace=True)"
   ]
  },
  {
   "cell_type": "markdown",
   "metadata": {},
   "source": [
    "# Visualization data"
   ]
  },
  {
   "cell_type": "code",
   "execution_count": 39,
   "metadata": {},
   "outputs": [
    {
     "name": "stdout",
     "output_type": "stream",
     "text": [
      "<class 'pandas.core.frame.DataFrame'>\n",
      "Int64Index: 1504150 entries, 0 to 464696\n",
      "Data columns (total 22 columns):\n",
      " #   Column                      Non-Null Count    Dtype  \n",
      "---  ------                      --------------    -----  \n",
      " 0   Longitude                   1504049 non-null  float64\n",
      " 1   Latitude                    1504049 non-null  float64\n",
      " 2   Police_Force                1504150 non-null  int64  \n",
      " 3   Accident_Severity           1504150 non-null  int64  \n",
      " 4   Number_of_Vehicles          1504150 non-null  int64  \n",
      " 5   Number_of_Casualties        1504150 non-null  int64  \n",
      " 6   Weather_Fine                1475728 non-null  float64\n",
      " 7   Weather_Raining             1475728 non-null  float64\n",
      " 8   Weather_Fog                 1475728 non-null  float64\n",
      " 9   Weather_Other               1475728 non-null  float64\n",
      " 10  Day_of_Year                 1504150 non-null  int64  \n",
      " 11  Month                       1504150 non-null  int64  \n",
      " 12  Hour                        1504033 non-null  float64\n",
      " 13  Day_of_Week                 1504150 non-null  int64  \n",
      " 14  Local_Authority_(District)  1504150 non-null  int64  \n",
      " 15  1st_Road_Class              1504150 non-null  int64  \n",
      " 16  1st_Road_Number             1504150 non-null  int64  \n",
      " 17  Speed_limit                 1504150 non-null  int64  \n",
      " 18  2nd_Road_Class              1504150 non-null  int64  \n",
      " 19  2nd_Road_Number             1504150 non-null  int64  \n",
      " 20  Urban_or_Rural_Area         1504150 non-null  int64  \n",
      " 21  Year                        1504150 non-null  int64  \n",
      "dtypes: float64(7), int64(15)\n",
      "memory usage: 263.9 MB\n",
      "None\n"
     ]
    }
   ],
   "source": [
    "print(data.info())"
   ]
  },
  {
   "cell_type": "code",
   "execution_count": 41,
   "metadata": {},
   "outputs": [
    {
     "data": {
      "image/png": "[encoded data removed]",
      "text/plain": [
       "<Figure size 432x288 with 1 Axes>"
      ]
     },
     "metadata": {
      "needs_background": "light"
     },
     "output_type": "display_data"
    }
   ],
   "source": [
    "X = data['Latitude'].values\n",
    "Y = data['Longitude'].values\n",
    "\n",
    "plt.scatter(X,Y)\n",
    "plt.show()"
   ]
  },
  {
   "cell_type": "code",
   "execution_count": 42,
   "metadata": {},
   "outputs": [
    {
     "data": {
      "text/plain": [
       "<matplotlib.axes._subplots.AxesSubplot at 0x7f5448ccaca0>"
      ]
     },
     "execution_count": 42,
     "metadata": {},
     "output_type": "execute_result"
    },
    {
     "data": {
      "image/png": "[encoded data removed]",
      "text/plain": [
       "<Figure size 432x288 with 2 Axes>"
      ]
     },
     "metadata": {
      "needs_background": "light"
     },
     "output_type": "display_data"
    }
   ],
   "source": [
    "corr = data[['Weather_Fine','Weather_Raining', 'Weather_Fog', 'Weather_Other', 'Day_of_Year', 'Month', 'Hour', 'Day_of_Week']].corr().round(1)\n",
    "sns.heatmap(corr, annot=True)"
   ]
  },
  {
   "cell_type": "markdown",
   "metadata": {},
   "source": [
    "# Algorithms"
   ]
  },
  {
   "cell_type": "code",
   "execution_count": 43,
   "metadata": {},
   "outputs": [],
   "source": [
    "data = data.loc[:,['Longitude', 'Latitude', 'Weather_Fine','Weather_Raining', 'Weather_Fog', 'Weather_Other',\\\n",
    "'Day_of_Year', 'Month', 'Hour', 'Day_of_Week', 'Year']]\n",
    "data.dropna(inplace=True)"
   ]
  },
  {
   "cell_type": "markdown",
   "metadata": {},
   "source": [
    "## Clustering data by KMeans"
   ]
  },
  {
   "cell_type": "code",
   "execution_count": 44,
   "metadata": {},
   "outputs": [],
   "source": [
    "# Number of Cluster\n",
    "K = 40\n",
    "\n",
    "model = KMeans(n_clusters = K)\n",
    "model.fit(data[['Latitude', 'Longitude']])\n",
    "data.insert(0, 'Cluster', model.labels_)"
   ]
  },
  {
   "cell_type": "code",
   "execution_count": 45,
   "metadata": {},
   "outputs": [
    {
     "data": {
      "image/png": "[encoded data removed]",
      "text/plain": [
       "<Figure size 432x288 with 1 Axes>"
      ]
     },
     "metadata": {
      "needs_background": "light"
     },
     "output_type": "display_data"
    }
   ],
   "source": [
    "for i in range(K):\n",
    "    T = data[data['Cluster'] == i]\n",
    "    plt.scatter(T['Latitude'], T['Longitude'])\n",
    "plt.show()"
   ]
  },
  {
   "cell_type": "code",
   "execution_count": 46,
   "metadata": {},
   "outputs": [],
   "source": [
    "data.insert(1, 'Accident', 1)"
   ]
  },
  {
   "cell_type": "code",
   "execution_count": 47,
   "metadata": {},
   "outputs": [],
   "source": [
    "data.reset_index(drop=True, inplace=True)"
   ]
  },
  {
   "cell_type": "code",
   "execution_count": 48,
   "metadata": {},
   "outputs": [],
   "source": [
    "data.to_csv('data_processed.csv', index=False)"
   ]
  },
  {
   "cell_type": "code",
   "execution_count": 63,
   "metadata": {},
   "outputs": [],
   "source": [
    "Cluster = pd.DataFrame()"
   ]
  },
  {
   "cell_type": "code",
   "execution_count": 64,
   "metadata": {},
   "outputs": [],
   "source": [
    "Lat = model.cluster_centers_[:, 0]\n",
    "Lng = model.cluster_centers_[:, 1]\n",
    "Cluster.insert(0, 'Cluster', np.arange(K))\n",
    "Cluster.insert(1, 'Lat', Lat)\n",
    "Cluster.insert(2, 'Lng', Lng)"
   ]
  },
  {
   "cell_type": "code",
   "execution_count": 67,
   "metadata": {},
   "outputs": [],
   "source": [
    "Cluster.head()\n",
    "Cluster.to_csv(\"Cluster.csv\", index=False)"
   ]
  }
 ],
 "metadata": {
  "kernelspec": {
   "display_name": "Python 3",
   "language": "python",
   "name": "python3"
  },
  "language_info": {
   "codemirror_mode": {
    "name": "ipython",
    "version": 3
   },
   "file_extension": ".py",
   "mimetype": "text/x-python",
   "name": "python",
   "nbconvert_exporter": "python",
   "pygments_lexer": "ipython3",
   "version": "3.8.2"
  }
 },
 "nbformat": 4,
 "nbformat_minor": 4
}
